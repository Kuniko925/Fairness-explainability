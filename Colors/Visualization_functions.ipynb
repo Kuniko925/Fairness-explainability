{
 "cells": [
  {
   "cell_type": "code",
   "execution_count": 2,
   "id": "9af4438d-03b9-4d88-9740-abe06d2d6f52",
   "metadata": {},
   "outputs": [],
   "source": [
    "import matplotlib.pyplot as plt\n",
    "import cv2\n",
    "import skimage\n",
    "from skimage.io import imread\n",
    "from skimage.color import rgb2lab, lab2rgb"
   ]
  },
  {
   "cell_type": "code",
   "execution_count": 3,
   "id": "41928af4-ef8c-4776-9502-aa9bc291d685",
   "metadata": {},
   "outputs": [],
   "source": [
    "def plot_channel_distribution(data):\n",
    "    \n",
    "    plt.figure(figsize=(10, 3))\n",
    "    plt.hist(data, bins=100, alpha=0.7)  # alpha adds transparency to the bars\n",
    "    plt.axvline(data.mean(), color='red', linestyle='dashed', linewidth=1, label='Mean')\n",
    "    plt.axvline(data.mode()[0], color='green', linestyle='dashed', linewidth=1, label='Mode')\n",
    "    plt.axvline(np.quantile(data, 0.25), color='orange', linestyle='dashed', linewidth=1, label='Q1 (25%)')\n",
    "    plt.axvline(np.quantile(data, 0.50), color='blue', linestyle='dashed', linewidth=1, label='Q2 (50%)')\n",
    "    plt.axvline(np.quantile(data, 0.75), color='purple', linestyle='dashed', linewidth=1, label='Q3 (75%)')\n",
    "    \n",
    "    plt.xlabel(\"Channel\")\n",
    "    plt.ylabel(\"Frequency\")\n",
    "    plt.legend()\n",
    "    plt.show()"
   ]
  },
  {
   "cell_type": "code",
   "execution_count": 4,
   "id": "3b76d877-e933-4680-9fc5-532e2868978e",
   "metadata": {},
   "outputs": [],
   "source": [
    "def plot_sample_images(data, col=4, row=6):\n",
    "    fig, axes = plt.subplots(col, row, figsize=(col*4, col*4*0.7))\n",
    "                             \n",
    "    for i, ax in enumerate(axes.flat):\n",
    "        if i < len(data):\n",
    "            img = cv2.imread(data.values[i])\n",
    "            ax.imshow(cv2.cvtColor(img, cv2.COLOR_BGR2RGB))\n",
    "            ax.set_title(f\"Sample {i + 1}\")\n",
    "            ax.axis(\"off\")\n",
    "                \n",
    "    plt.tight_layout()\n",
    "    plt.show()"
   ]
  },
  {
   "cell_type": "code",
   "execution_count": 5,
   "id": "797370c7-6fdd-479d-ab0a-ad4b8a90a542",
   "metadata": {},
   "outputs": [],
   "source": [
    "def plot_sample_images(data, col=4, row=6):\n",
    "    fig, axes = plt.subplots(col, row, figsize=(col*4, col*4*0.7))\n",
    "                             \n",
    "    for i, ax in enumerate(axes.flat):\n",
    "        if i < len(data):\n",
    "            img = cv2.imread(data.values[i])\n",
    "            ax.imshow(cv2.cvtColor(img, cv2.COLOR_BGR2RGB))\n",
    "            ax.set_title(f\"Sample {i + 1}\")\n",
    "            ax.axis(\"off\")\n",
    "                \n",
    "    plt.tight_layout()\n",
    "    plt.show()"
   ]
  },
  {
   "cell_type": "code",
   "execution_count": null,
   "id": "75d728d3-4d5f-4b9c-ac17-92de480c70f8",
   "metadata": {},
   "outputs": [],
   "source": []
  }
 ],
 "metadata": {
  "kernelspec": {
   "display_name": "Python 3 (ipykernel)",
   "language": "python",
   "name": "python3"
  },
  "language_info": {
   "codemirror_mode": {
    "name": "ipython",
    "version": 3
   },
   "file_extension": ".py",
   "mimetype": "text/x-python",
   "name": "python",
   "nbconvert_exporter": "python",
   "pygments_lexer": "ipython3",
   "version": "3.11.6"
  }
 },
 "nbformat": 4,
 "nbformat_minor": 5
}
