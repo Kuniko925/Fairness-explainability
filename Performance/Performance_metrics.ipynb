{
 "cells": [
  {
   "cell_type": "code",
   "execution_count": 1,
   "id": "61fb2ac4-6534-4cd5-af88-ccc81e89dc44",
   "metadata": {},
   "outputs": [],
   "source": [
    "import numpy as np"
   ]
  },
  {
   "cell_type": "code",
   "execution_count": 2,
   "id": "f179836e-563b-426b-ac0c-86fb9bdb3984",
   "metadata": {},
   "outputs": [],
   "source": [
    "def comfusion_matrix_values(cm, class_index):\n",
    "    total_instances_count = np.sum(cm)\n",
    "    tp = cm[class_index, class_index]\n",
    "    fp = np.sum(cm[class_index]) - tp\n",
    "    fn = np.sum(cm[:, class_index]) - tp\n",
    "    tn = total_instances_count - tp - fp - fn\n",
    "    return tp, fp, fn, tn"
   ]
  },
  {
   "cell_type": "code",
   "execution_count": 3,
   "id": "ebd74834-025c-473f-9f94-29682053b20d",
   "metadata": {},
   "outputs": [],
   "source": [
    "def evaluation_metrics(cm, class_index):\n",
    "    total_instances_count = np.sum(cm)\n",
    "    tp, fp, fn, tn = comfusion_matrix_values(cm, class_index)\n",
    "\n",
    "    metrics = {}\n",
    "    metrics[\"tpr\"] = round(tp / (tp + fn), 4)\n",
    "    metrics[\"fpr\"] = round(fp / (tn + fp), 4)\n",
    "    metrics[\"fnr\"] = round(fn / (fn + tp), 4)\n",
    "    metrics[\"tnr\"] = round(tn / (tn + fp), 4)\n",
    "    metrics[\"accuracy\"] = round((tp + tn) / total_instances_count, 4)\n",
    "    metrics[\"precision\"] = round(tp / (tp + fp), 4)\n",
    "\n",
    "    return metrics"
   ]
  },
  {
   "cell_type": "code",
   "execution_count": null,
   "id": "03d3d070-e38e-4e6e-bad3-d928050d478e",
   "metadata": {},
   "outputs": [],
   "source": []
  }
 ],
 "metadata": {
  "kernelspec": {
   "display_name": "Python 3 (ipykernel)",
   "language": "python",
   "name": "python3"
  },
  "language_info": {
   "codemirror_mode": {
    "name": "ipython",
    "version": 3
   },
   "file_extension": ".py",
   "mimetype": "text/x-python",
   "name": "python",
   "nbconvert_exporter": "python",
   "pygments_lexer": "ipython3",
   "version": "3.11.6"
  }
 },
 "nbformat": 4,
 "nbformat_minor": 5
}
